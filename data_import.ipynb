{
 "cells": [
  {
   "cell_type": "markdown",
   "metadata": {},
   "source": [
    "# Portfolio Risk Dashboard"
   ]
  },
  {
   "cell_type": "markdown",
   "metadata": {},
   "source": [
    "The purpose of this project is to practice creating a dashboard to easily observe and take note of portfolio risk. "
   ]
  },
  {
   "cell_type": "markdown",
   "metadata": {},
   "source": [
    "### Importing Packages"
   ]
  },
  {
   "cell_type": "code",
   "execution_count": 2,
   "metadata": {},
   "outputs": [],
   "source": [
    "import numpy as np\n",
    "import pandas as pd"
   ]
  },
  {
   "cell_type": "markdown",
   "metadata": {},
   "source": [
    "### Importing Data"
   ]
  },
  {
   "cell_type": "markdown",
   "metadata": {},
   "source": [
    "For this project, we will be using the financial information publicly available from Voss Capital's 2021 13F. The data is publicly available at this address: https://whalewisdom.com/filer/voss-capital-llc#tabholdings_tab_link\n",
    "The data available on a 13F is \"[b]asically anything that is traded on an exchange as well as certain equity options and warrants, shares of closed-end investment companies and certain convertible debt securities.\" Source: whalewisdom.com"
   ]
  },
  {
   "cell_type": "markdown",
   "metadata": {},
   "source": [
    "### About the Data in the 13F"
   ]
  },
  {
   "cell_type": "markdown",
   "metadata": {},
   "source": [
    "The data tells us only what quarter the shares were purchased in and the predicted price that the fund paid for the amount. "
   ]
  },
  {
   "cell_type": "markdown",
   "metadata": {},
   "source": [
    "### About Stock Vantage API"
   ]
  },
  {
   "cell_type": "markdown",
   "metadata": {},
   "source": [
    "Can provide stock data"
   ]
  },
  {
   "cell_type": "markdown",
   "metadata": {},
   "source": [
    "### Objective One: Create a function where the input is number of shares, purchase price, and purchase date. The function should return the Sharpe Ratio. "
   ]
  },
  {
   "cell_type": "markdown",
   "metadata": {},
   "source": [
    "To get the sharpe calculation of one stock:\n",
    "\n",
    "we have to take the mean price difference per day for the last year starting at the date of purchase\n",
    "\n",
    "BUT we want to have a cumulative sharpe ratio for all of the stocks that we own so we want the function to take in an array that is 4 columns: ticker, purchase price, purchase date and number of shares. \n",
    "\n",
    "Then we want the function to take the last year of the prices and find the differences between each price day by day and then find the average of that. \n",
    "\n",
    "Then we want the function to save that number to the average_daily_return list. \n",
    "We want the function to do the same thing with the 3 month Treasury rate and create a list with one number per array row. \n",
    "\n",
    "Then we want to take the sum of the average_daily_return list.\n",
    "Then we want to take the sum of the 3mo_tbill list.\n",
    "\n",
    "Then we want to take the avg_daily_return_sum minus the 3mo_Tbill_sum to find the numerator.\n",
    "Then we want to take the standard deviation of the numerator to find the denominator. \n",
    "Then we want to divide the numerator by the denominator to find the sharpe ratio of the portfolio."
   ]
  },
  {
   "cell_type": "markdown",
   "metadata": {},
   "source": [
    "Let's create a mock array of what we are looking for."
   ]
  },
  {
   "cell_type": "code",
   "execution_count": 33,
   "metadata": {
    "scrolled": true
   },
   "outputs": [
    {
     "name": "stdout",
     "output_type": "stream",
     "text": [
      "[[['TSLA' '2' '3.73' '4-20-2021']\n",
      "  ['KO' '6' '7.444' '8-31-2021']\n",
      "  ['GFF' '10' '11.33' '12-31-2021']\n",
      "  ['EXTR' '14' '15.5' '1-12-2022']]]\n"
     ]
    }
   ],
   "source": [
    "array = np.array([[[\"TSLA\",2,3.73,\"4-20-2021\"],[\"KO\",6,7.444,\"8-31-2021\"],[\"GFF\",10,11.33,\"12-31-2021\"],[\"EXTR\",14,15.50,\"1-12-2022\"]]])\n",
    "print(a)"
   ]
  },
  {
   "cell_type": "markdown",
   "metadata": {},
   "source": [
    "Figuring out how to index through these. "
   ]
  },
  {
   "cell_type": "code",
   "execution_count": 50,
   "metadata": {},
   "outputs": [
    {
     "data": {
      "text/plain": [
       "'TSLA'"
      ]
     },
     "execution_count": 50,
     "metadata": {},
     "output_type": "execute_result"
    }
   ],
   "source": [
    "array [0,0,0]"
   ]
  },
  {
   "cell_type": "code",
   "execution_count": null,
   "metadata": {},
   "outputs": [],
   "source": []
  },
  {
   "cell_type": "code",
   "execution_count": 43,
   "metadata": {},
   "outputs": [
    {
     "name": "stdout",
     "output_type": "stream",
     "text": [
      "[['TSLA' '2' '3.73' '4-20-2021']\n",
      " ['KO' '6' '7.444' '8-31-2021']\n",
      " ['GFF' '10' '11.33' '12-31-2021']\n",
      " ['EXTR' '14' '15.5' '1-12-2022']]\n"
     ]
    }
   ],
   "source": [
    "for i in array:\n",
    "    print(i)"
   ]
  },
  {
   "cell_type": "code",
   "execution_count": 35,
   "metadata": {},
   "outputs": [],
   "source": [
    "def sharpe_calc(array):\n",
    "\n",
    "#Each array row has: ticker, num_shares, price_per_share, date_of_purchase\n",
    "\n",
    "    for i in array[0]:\n",
    "        print(i)\n",
    "\n"
   ]
  },
  {
   "cell_type": "code",
   "execution_count": null,
   "metadata": {},
   "outputs": [],
   "source": []
  },
  {
   "cell_type": "code",
   "execution_count": null,
   "metadata": {},
   "outputs": [],
   "source": []
  },
  {
   "cell_type": "code",
   "execution_count": null,
   "metadata": {},
   "outputs": [],
   "source": []
  },
  {
   "cell_type": "code",
   "execution_count": null,
   "metadata": {},
   "outputs": [],
   "source": []
  },
  {
   "cell_type": "code",
   "execution_count": null,
   "metadata": {},
   "outputs": [],
   "source": []
  }
 ],
 "metadata": {
  "kernelspec": {
   "display_name": "Python 3",
   "language": "python",
   "name": "python3"
  },
  "language_info": {
   "codemirror_mode": {
    "name": "ipython",
    "version": 3
   },
   "file_extension": ".py",
   "mimetype": "text/x-python",
   "name": "python",
   "nbconvert_exporter": "python",
   "pygments_lexer": "ipython3",
   "version": "3.6.9"
  },
  "toc": {
   "base_numbering": 1,
   "nav_menu": {},
   "number_sections": true,
   "sideBar": true,
   "skip_h1_title": false,
   "title_cell": "Table of Contents",
   "title_sidebar": "Contents",
   "toc_cell": false,
   "toc_position": {},
   "toc_section_display": true,
   "toc_window_display": false
  }
 },
 "nbformat": 4,
 "nbformat_minor": 4
}
